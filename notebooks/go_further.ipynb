{
 "cells": [
  {
   "cell_type": "markdown",
   "metadata": {},
   "source": [
    "Write your own adaptive video policy\n",
    "------------------------------------\n",
    "\n",
    "Do you think you can improve on these adaptive video policies?\n",
    "\n",
    "To write you own adaptive video policy, on client romeo open the file:\n",
    
    "``` bash\n",
    "cd ~/AStream/dist/client/adaptation\n",
    "nano basic_dash2.py\n",
    "```\n",
    
    "Make your changes and…"
   ]
  }
 ],
 "nbformat": 4,
 "nbformat_minor": 0,
 "metadata": {
  "kernelspec": {
   "name": "python",
   "display_name": "Python 3"
  }
 }
}
