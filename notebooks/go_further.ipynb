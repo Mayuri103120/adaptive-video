{
 "cells": [
  {
   "cell_type": "markdown",
   "metadata": {},
   "source": [
    "Write your own adaptive video policy\n",
    "------------------------------------\n",
    "\n",
    "Do you think you can improve on these adaptive video policies?\n",
    "\n",
    "To write you own adaptive video policy, open the file:\n",
    "\n",
    "[AStream/dist/client/adaptation/basic_dash2](AStream/dist/client/adaptation/basic_dash2)\n",
    "\n",
    "Make your changes and…"
   ]
  }
 ],
 "nbformat": 4,
 "nbformat_minor": 0,
 "metadata": {
  "kernelspec": {
   "name": "python",
   "display_name": "Python 3"
  }
 }
}
